{
 "cells": [
  {
   "cell_type": "code",
   "execution_count": 2,
   "metadata": {},
   "outputs": [],
   "source": [
    "from torchvision import datasets\n",
    "from torchvision.transforms import ToTensor"
   ]
  },
  {
   "cell_type": "code",
   "execution_count": 4,
   "metadata": {},
   "outputs": [
    {
     "name": "stdout",
     "output_type": "stream",
     "text": [
      "Downloading http://yann.lecun.com/exdb/mnist/train-images-idx3-ubyte.gz\n"
     ]
    },
    {
     "name": "stderr",
     "output_type": "stream",
     "text": [
      "3.0%"
     ]
    },
    {
     "name": "stdout",
     "output_type": "stream",
     "text": [
      "Downloading http://yann.lecun.com/exdb/mnist/train-images-idx3-ubyte.gz to data/MNIST/raw/train-images-idx3-ubyte.gz\n"
     ]
    },
    {
     "name": "stderr",
     "output_type": "stream",
     "text": [
      "100.0%\n"
     ]
    },
    {
     "name": "stdout",
     "output_type": "stream",
     "text": [
      "Extracting data/MNIST/raw/train-images-idx3-ubyte.gz to data/MNIST/raw\n"
     ]
    },
    {
     "name": "stderr",
     "output_type": "stream",
     "text": [
      "100.0%"
     ]
    },
    {
     "name": "stdout",
     "output_type": "stream",
     "text": [
      "\n",
      "Downloading http://yann.lecun.com/exdb/mnist/train-labels-idx1-ubyte.gz\n",
      "Downloading http://yann.lecun.com/exdb/mnist/train-labels-idx1-ubyte.gz to data/MNIST/raw/train-labels-idx1-ubyte.gz\n",
      "Extracting data/MNIST/raw/train-labels-idx1-ubyte.gz to data/MNIST/raw\n",
      "\n",
      "Downloading http://yann.lecun.com/exdb/mnist/t10k-images-idx3-ubyte.gz\n"
     ]
    },
    {
     "name": "stderr",
     "output_type": "stream",
     "text": [
      "\n"
     ]
    },
    {
     "name": "stdout",
     "output_type": "stream",
     "text": [
      "Downloading http://yann.lecun.com/exdb/mnist/t10k-images-idx3-ubyte.gz to data/MNIST/raw/t10k-images-idx3-ubyte.gz\n"
     ]
    },
    {
     "name": "stderr",
     "output_type": "stream",
     "text": [
      "100.0%\n"
     ]
    },
    {
     "name": "stdout",
     "output_type": "stream",
     "text": [
      "Extracting data/MNIST/raw/t10k-images-idx3-ubyte.gz to data/MNIST/raw\n",
      "\n",
      "Downloading http://yann.lecun.com/exdb/mnist/t10k-labels-idx1-ubyte.gz\n",
      "Downloading http://yann.lecun.com/exdb/mnist/t10k-labels-idx1-ubyte.gz to data/MNIST/raw/t10k-labels-idx1-ubyte.gz\n"
     ]
    },
    {
     "name": "stderr",
     "output_type": "stream",
     "text": [
      "100.0%"
     ]
    },
    {
     "name": "stdout",
     "output_type": "stream",
     "text": [
      "Extracting data/MNIST/raw/t10k-labels-idx1-ubyte.gz to data/MNIST/raw\n",
      "\n"
     ]
    },
    {
     "name": "stderr",
     "output_type": "stream",
     "text": [
      "\n"
     ]
    }
   ],
   "source": [
    "train_data = datasets.MNIST(\n",
    "    root = 'data',\n",
    "    train = True,\n",
    "    transform = ToTensor(),\n",
    "    download = True\n",
    ")\n",
    "\n",
    "test_data = datasets.MNIST(\n",
    "    root = 'data',\n",
    "    train = False,\n",
    "    transform = ToTensor(),\n",
    "    download = True\n",
    ")"
   ]
  },
  {
   "cell_type": "code",
   "execution_count": 5,
   "metadata": {},
   "outputs": [
    {
     "data": {
      "text/plain": [
       "Dataset MNIST\n",
       "    Number of datapoints: 60000\n",
       "    Root location: data\n",
       "    Split: Train\n",
       "    StandardTransform\n",
       "Transform: ToTensor()"
      ]
     },
     "execution_count": 5,
     "metadata": {},
     "output_type": "execute_result"
    }
   ],
   "source": [
    "train_data"
   ]
  },
  {
   "cell_type": "code",
   "execution_count": 6,
   "metadata": {},
   "outputs": [
    {
     "data": {
      "text/plain": [
       "Dataset MNIST\n",
       "    Number of datapoints: 10000\n",
       "    Root location: data\n",
       "    Split: Test\n",
       "    StandardTransform\n",
       "Transform: ToTensor()"
      ]
     },
     "execution_count": 6,
     "metadata": {},
     "output_type": "execute_result"
    }
   ],
   "source": [
    "test_data"
   ]
  },
  {
   "cell_type": "code",
   "execution_count": 9,
   "metadata": {},
   "outputs": [
    {
     "data": {
      "text/plain": [
       "torch.Size([60000, 28, 28])"
      ]
     },
     "execution_count": 9,
     "metadata": {},
     "output_type": "execute_result"
    }
   ],
   "source": [
    "train_data.data.size()"
   ]
  },
  {
   "cell_type": "code",
   "execution_count": 10,
   "metadata": {},
   "outputs": [
    {
     "data": {
      "text/plain": [
       "torch.Size([10000, 28, 28])"
      ]
     },
     "execution_count": 10,
     "metadata": {},
     "output_type": "execute_result"
    }
   ],
   "source": [
    "test_data.data.shape"
   ]
  },
  {
   "cell_type": "code",
   "execution_count": 12,
   "metadata": {},
   "outputs": [],
   "source": [
    "from torch.utils.data import DataLoader\n",
    "\n",
    "loaders = {\n",
    "    'train': DataLoader(train_data,\n",
    "                        batch_size=100,\n",
    "                        shuffle=True,\n",
    "                        num_workers=1),\n",
    "    \n",
    "    'test': DataLoader(test_data,\n",
    "                        batch_size=100,\n",
    "                        shuffle=True,\n",
    "                        num_workers=1),\n",
    "}"
   ]
  },
  {
   "cell_type": "code",
   "execution_count": 13,
   "metadata": {},
   "outputs": [
    {
     "data": {
      "text/plain": [
       "{'train': <torch.utils.data.dataloader.DataLoader at 0x7ff09a409030>,\n",
       " 'test': <torch.utils.data.dataloader.DataLoader at 0x7ff09a408400>}"
      ]
     },
     "execution_count": 13,
     "metadata": {},
     "output_type": "execute_result"
    }
   ],
   "source": [
    "loaders"
   ]
  },
  {
   "cell_type": "code",
   "execution_count": 18,
   "metadata": {},
   "outputs": [],
   "source": [
    "import torch.nn as nn\n",
    "import torch.nn.functional as F\n",
    "import torch.optim as optim\n",
    "\n",
    "class CNN(nn.Module):\n",
    "    \n",
    "    def __init__(self):\n",
    "        super(CNN, self).__init__()\n",
    "\n",
    "        self.conv1 = nn.Conv2d(1, 10, kernel_size=5)\n",
    "        self.conv2 = nn.Conv2d(10, 20, kernel_size=5)\n",
    "        self.conv2_drop = nn.Dropout2d()\n",
    "        self.fc1 = nn.Linear(320, 50)\n",
    "        self.fc2 = nn.Linear(50, 10)\n",
    "\n",
    "    def forward(self, x):\n",
    "        x = F.relu(F.max_pool2d(self.conv1(x), 2))\n",
    "        x = F.relu(F.max_pool2d(self.conv2_drop(self.conv2(x)), 2))\n",
    "        x = x.view(-1, 320)\n",
    "        x = F.relu(self.fc1(x))\n",
    "        x = F.dropout(x, training=self.training)\n",
    "\n",
    "        return F.softmax(x)"
   ]
  },
  {
   "cell_type": "code",
   "execution_count": 19,
   "metadata": {},
   "outputs": [],
   "source": [
    "import torch\n",
    "\n",
    "device = torch.device('cuda' if torch.cuda.is_available() else 'cpu')\n",
    "\n",
    "model = CNN().to(device)\n",
    "\n",
    "optimizer = optim.Adam(model.parameters(), lr=0.001)\n",
    "\n",
    "loss_fn = nn.CrossEntropyLoss()\n",
    "\n",
    "def train(epoch):\n",
    "    model.train()\n",
    "    for batch_idx, (data, target) in enumerate(loaders['train']):\n",
    "        data, target = data.to(device), target.to(device)\n",
    "        optimizer.zero_grad()\n",
    "        output = model(data)\n",
    "        loss = loss_fn(output, target)\n",
    "        loss.backward()\n",
    "        optimizer.step()\n",
    "        if batch_idx % 20 == 0:\n",
    "            print(f'Train Epoch: {epoch} [{batch_idx + len(data)}/{len(loaders[\"train\"].dataset)} ({100. * batch_idx / len(loaders[\"train\"]): .0f}%)]\\t{loss.item():.6f}')\n",
    "\n",
    "def test():\n",
    "    model.eval()\n",
    "    test_loss = 0\n",
    "    correct = 0\n",
    "\n",
    "    with torch.no_grad():\n",
    "        for data, target in loaders['test']:\n",
    "            data, target = data.to(device), target.to(device)\n",
    "            output = model(data)\n",
    "            test_loss += loss_fn(output, target).item()\n",
    "            pred = output.argmax(dim=1, keepdim=True)\n",
    "            correct += pred.eq(target.view_as(pred)).sum().item()\n",
    "\n",
    "    test_loss /= len(loaders['test'].dataset)\n",
    "    print(f'\\nTest set: Average loss: {test_loss:.4f}, Accuracy {correct}/{len(loaders[\"test\"].dataset)} ({100. * correct / len(loaders[\"test\"].dataset):.0f}%\\n)')\n"
   ]
  },
  {
   "cell_type": "code",
   "execution_count": 20,
   "metadata": {},
   "outputs": [
    {
     "name": "stderr",
     "output_type": "stream",
     "text": [
      "/tmp/ipykernel_3940/1760565177.py:23: UserWarning: Implicit dimension choice for softmax has been deprecated. Change the call to include dim=X as an argument.\n",
      "  return F.softmax(x)\n"
     ]
    },
    {
     "name": "stdout",
     "output_type": "stream",
     "text": [
      "Train Epoch: 1 [100/60000 ( 0%)]\t3.911675\n",
      "Train Epoch: 1 [120/60000 ( 3%)]\t3.823142\n",
      "Train Epoch: 1 [140/60000 ( 7%)]\t3.794982\n",
      "Train Epoch: 1 [160/60000 ( 10%)]\t3.679135\n",
      "Train Epoch: 1 [180/60000 ( 13%)]\t3.708125\n",
      "Train Epoch: 1 [200/60000 ( 17%)]\t3.702607\n",
      "Train Epoch: 1 [220/60000 ( 20%)]\t3.655591\n",
      "Train Epoch: 1 [240/60000 ( 23%)]\t3.571220\n",
      "Train Epoch: 1 [260/60000 ( 27%)]\t3.585598\n",
      "Train Epoch: 1 [280/60000 ( 30%)]\t3.549232\n",
      "Train Epoch: 1 [300/60000 ( 33%)]\t3.587404\n",
      "Train Epoch: 1 [320/60000 ( 37%)]\t3.614956\n",
      "Train Epoch: 1 [340/60000 ( 40%)]\t3.549458\n",
      "Train Epoch: 1 [360/60000 ( 43%)]\t3.517957\n",
      "Train Epoch: 1 [380/60000 ( 47%)]\t3.603573\n",
      "Train Epoch: 1 [400/60000 ( 50%)]\t3.516009\n",
      "Train Epoch: 1 [420/60000 ( 53%)]\t3.590948\n",
      "Train Epoch: 1 [440/60000 ( 57%)]\t3.585319\n",
      "Train Epoch: 1 [460/60000 ( 60%)]\t3.549927\n",
      "Train Epoch: 1 [480/60000 ( 63%)]\t3.607051\n",
      "Train Epoch: 1 [500/60000 ( 67%)]\t3.520535\n",
      "Train Epoch: 1 [520/60000 ( 70%)]\t3.492848\n",
      "Train Epoch: 1 [540/60000 ( 73%)]\t3.555050\n",
      "Train Epoch: 1 [560/60000 ( 77%)]\t3.512053\n",
      "Train Epoch: 1 [580/60000 ( 80%)]\t3.486684\n",
      "Train Epoch: 1 [600/60000 ( 83%)]\t3.551907\n",
      "Train Epoch: 1 [620/60000 ( 87%)]\t3.563950\n",
      "Train Epoch: 1 [640/60000 ( 90%)]\t3.414115\n",
      "Train Epoch: 1 [660/60000 ( 93%)]\t3.524194\n",
      "Train Epoch: 1 [680/60000 ( 97%)]\t3.469820\n",
      "\n",
      "Test set: Average loss: 0.0313, Accuracy 8373/10000 (84%\n",
      ")\n",
      "Train Epoch: 2 [100/60000 ( 0%)]\t3.563180\n",
      "Train Epoch: 2 [120/60000 ( 3%)]\t3.560166\n",
      "Train Epoch: 2 [140/60000 ( 7%)]\t3.546457\n",
      "Train Epoch: 2 [160/60000 ( 10%)]\t3.487719\n",
      "Train Epoch: 2 [180/60000 ( 13%)]\t3.553612\n",
      "Train Epoch: 2 [200/60000 ( 17%)]\t3.489507\n",
      "Train Epoch: 2 [220/60000 ( 20%)]\t3.417795\n",
      "Train Epoch: 2 [240/60000 ( 23%)]\t3.602411\n",
      "Train Epoch: 2 [260/60000 ( 27%)]\t3.518117\n",
      "Train Epoch: 2 [280/60000 ( 30%)]\t3.531940\n",
      "Train Epoch: 2 [300/60000 ( 33%)]\t3.508537\n",
      "Train Epoch: 2 [320/60000 ( 37%)]\t3.543690\n",
      "Train Epoch: 2 [340/60000 ( 40%)]\t3.480445\n",
      "Train Epoch: 2 [360/60000 ( 43%)]\t3.490295\n",
      "Train Epoch: 2 [380/60000 ( 47%)]\t3.437890\n",
      "Train Epoch: 2 [400/60000 ( 50%)]\t3.435653\n",
      "Train Epoch: 2 [420/60000 ( 53%)]\t3.458941\n",
      "Train Epoch: 2 [440/60000 ( 57%)]\t3.414353\n",
      "Train Epoch: 2 [460/60000 ( 60%)]\t3.502607\n",
      "Train Epoch: 2 [480/60000 ( 63%)]\t3.485667\n",
      "Train Epoch: 2 [500/60000 ( 67%)]\t3.441422\n",
      "Train Epoch: 2 [520/60000 ( 70%)]\t3.448880\n",
      "Train Epoch: 2 [540/60000 ( 73%)]\t3.446302\n",
      "Train Epoch: 2 [560/60000 ( 77%)]\t3.440182\n",
      "Train Epoch: 2 [580/60000 ( 80%)]\t3.438596\n",
      "Train Epoch: 2 [600/60000 ( 83%)]\t3.399936\n",
      "Train Epoch: 2 [620/60000 ( 87%)]\t3.432681\n",
      "Train Epoch: 2 [640/60000 ( 90%)]\t3.478677\n",
      "Train Epoch: 2 [660/60000 ( 93%)]\t3.421364\n",
      "Train Epoch: 2 [680/60000 ( 97%)]\t3.486211\n",
      "\n",
      "Test set: Average loss: 0.0303, Accuracy 9427/10000 (94%\n",
      ")\n",
      "Train Epoch: 3 [100/60000 ( 0%)]\t3.478652\n",
      "Train Epoch: 3 [120/60000 ( 3%)]\t3.436568\n",
      "Train Epoch: 3 [140/60000 ( 7%)]\t3.440536\n",
      "Train Epoch: 3 [160/60000 ( 10%)]\t3.466807\n",
      "Train Epoch: 3 [180/60000 ( 13%)]\t3.418895\n",
      "Train Epoch: 3 [200/60000 ( 17%)]\t3.524479\n",
      "Train Epoch: 3 [220/60000 ( 20%)]\t3.497917\n",
      "Train Epoch: 3 [240/60000 ( 23%)]\t3.498850\n",
      "Train Epoch: 3 [260/60000 ( 27%)]\t3.475515\n",
      "Train Epoch: 3 [280/60000 ( 30%)]\t3.529238\n",
      "Train Epoch: 3 [300/60000 ( 33%)]\t3.534601\n",
      "Train Epoch: 3 [320/60000 ( 37%)]\t3.457604\n",
      "Train Epoch: 3 [340/60000 ( 40%)]\t3.377591\n",
      "Train Epoch: 3 [360/60000 ( 43%)]\t3.423076\n",
      "Train Epoch: 3 [380/60000 ( 47%)]\t3.479469\n",
      "Train Epoch: 3 [400/60000 ( 50%)]\t3.341828\n",
      "Train Epoch: 3 [420/60000 ( 53%)]\t3.538051\n",
      "Train Epoch: 3 [440/60000 ( 57%)]\t3.490262\n",
      "Train Epoch: 3 [460/60000 ( 60%)]\t3.404791\n",
      "Train Epoch: 3 [480/60000 ( 63%)]\t3.540638\n",
      "Train Epoch: 3 [500/60000 ( 67%)]\t3.500641\n",
      "Train Epoch: 3 [520/60000 ( 70%)]\t3.511277\n",
      "Train Epoch: 3 [540/60000 ( 73%)]\t3.476974\n",
      "Train Epoch: 3 [560/60000 ( 77%)]\t3.395068\n",
      "Train Epoch: 3 [580/60000 ( 80%)]\t3.454342\n",
      "Train Epoch: 3 [600/60000 ( 83%)]\t3.400240\n",
      "Train Epoch: 3 [620/60000 ( 87%)]\t3.409931\n",
      "Train Epoch: 3 [640/60000 ( 90%)]\t3.517712\n",
      "Train Epoch: 3 [660/60000 ( 93%)]\t3.533378\n",
      "Train Epoch: 3 [680/60000 ( 97%)]\t3.444057\n",
      "\n",
      "Test set: Average loss: 0.0300, Accuracy 9574/10000 (96%\n",
      ")\n",
      "Train Epoch: 4 [100/60000 ( 0%)]\t3.467727\n",
      "Train Epoch: 4 [120/60000 ( 3%)]\t3.499522\n",
      "Train Epoch: 4 [140/60000 ( 7%)]\t3.418333\n",
      "Train Epoch: 4 [160/60000 ( 10%)]\t3.415155\n",
      "Train Epoch: 4 [180/60000 ( 13%)]\t3.466289\n",
      "Train Epoch: 4 [200/60000 ( 17%)]\t3.536862\n",
      "Train Epoch: 4 [220/60000 ( 20%)]\t3.485799\n",
      "Train Epoch: 4 [240/60000 ( 23%)]\t3.344161\n",
      "Train Epoch: 4 [260/60000 ( 27%)]\t3.415876\n",
      "Train Epoch: 4 [280/60000 ( 30%)]\t3.418115\n",
      "Train Epoch: 4 [300/60000 ( 33%)]\t3.436291\n",
      "Train Epoch: 4 [320/60000 ( 37%)]\t3.451548\n",
      "Train Epoch: 4 [340/60000 ( 40%)]\t3.494084\n",
      "Train Epoch: 4 [360/60000 ( 43%)]\t3.395410\n",
      "Train Epoch: 4 [380/60000 ( 47%)]\t3.385738\n",
      "Train Epoch: 4 [400/60000 ( 50%)]\t3.418622\n",
      "Train Epoch: 4 [420/60000 ( 53%)]\t3.483036\n",
      "Train Epoch: 4 [440/60000 ( 57%)]\t3.460191\n",
      "Train Epoch: 4 [460/60000 ( 60%)]\t3.565037\n",
      "Train Epoch: 4 [480/60000 ( 63%)]\t3.477048\n",
      "Train Epoch: 4 [500/60000 ( 67%)]\t3.454916\n",
      "Train Epoch: 4 [520/60000 ( 70%)]\t3.435986\n",
      "Train Epoch: 4 [540/60000 ( 73%)]\t3.510705\n",
      "Train Epoch: 4 [560/60000 ( 77%)]\t3.421333\n",
      "Train Epoch: 4 [580/60000 ( 80%)]\t3.487129\n",
      "Train Epoch: 4 [600/60000 ( 83%)]\t3.487138\n",
      "Train Epoch: 4 [620/60000 ( 87%)]\t3.400052\n",
      "Train Epoch: 4 [640/60000 ( 90%)]\t3.399777\n",
      "Train Epoch: 4 [660/60000 ( 93%)]\t3.407441\n",
      "Train Epoch: 4 [680/60000 ( 97%)]\t3.400453\n",
      "\n",
      "Test set: Average loss: 0.0300, Accuracy 9589/10000 (96%\n",
      ")\n",
      "Train Epoch: 5 [100/60000 ( 0%)]\t3.467244\n",
      "Train Epoch: 5 [120/60000 ( 3%)]\t3.414895\n",
      "Train Epoch: 5 [140/60000 ( 7%)]\t3.423652\n",
      "Train Epoch: 5 [160/60000 ( 10%)]\t3.463965\n",
      "Train Epoch: 5 [180/60000 ( 13%)]\t3.507985\n",
      "Train Epoch: 5 [200/60000 ( 17%)]\t3.483901\n",
      "Train Epoch: 5 [220/60000 ( 20%)]\t3.472582\n",
      "Train Epoch: 5 [240/60000 ( 23%)]\t3.454506\n",
      "Train Epoch: 5 [260/60000 ( 27%)]\t3.456853\n",
      "Train Epoch: 5 [280/60000 ( 30%)]\t3.426902\n",
      "Train Epoch: 5 [300/60000 ( 33%)]\t3.414595\n",
      "Train Epoch: 5 [320/60000 ( 37%)]\t3.509165\n",
      "Train Epoch: 5 [340/60000 ( 40%)]\t3.376713\n",
      "Train Epoch: 5 [360/60000 ( 43%)]\t3.447809\n",
      "Train Epoch: 5 [380/60000 ( 47%)]\t3.470075\n",
      "Train Epoch: 5 [400/60000 ( 50%)]\t3.485983\n",
      "Train Epoch: 5 [420/60000 ( 53%)]\t3.495834\n",
      "Train Epoch: 5 [440/60000 ( 57%)]\t3.450999\n",
      "Train Epoch: 5 [460/60000 ( 60%)]\t3.434867\n",
      "Train Epoch: 5 [480/60000 ( 63%)]\t3.393278\n",
      "Train Epoch: 5 [500/60000 ( 67%)]\t3.418896\n",
      "Train Epoch: 5 [520/60000 ( 70%)]\t3.548932\n",
      "Train Epoch: 5 [540/60000 ( 73%)]\t3.364495\n",
      "Train Epoch: 5 [560/60000 ( 77%)]\t3.415613\n",
      "Train Epoch: 5 [580/60000 ( 80%)]\t3.437434\n",
      "Train Epoch: 5 [600/60000 ( 83%)]\t3.396138\n",
      "Train Epoch: 5 [620/60000 ( 87%)]\t3.499997\n",
      "Train Epoch: 5 [640/60000 ( 90%)]\t3.395839\n",
      "Train Epoch: 5 [660/60000 ( 93%)]\t3.572730\n",
      "Train Epoch: 5 [680/60000 ( 97%)]\t3.465910\n",
      "\n",
      "Test set: Average loss: 0.0300, Accuracy 9588/10000 (96%\n",
      ")\n",
      "Train Epoch: 6 [100/60000 ( 0%)]\t3.517760\n",
      "Train Epoch: 6 [120/60000 ( 3%)]\t3.508167\n",
      "Train Epoch: 6 [140/60000 ( 7%)]\t3.474771\n",
      "Train Epoch: 6 [160/60000 ( 10%)]\t3.415303\n",
      "Train Epoch: 6 [180/60000 ( 13%)]\t3.445944\n",
      "Train Epoch: 6 [200/60000 ( 17%)]\t3.478373\n",
      "Train Epoch: 6 [220/60000 ( 20%)]\t3.502513\n",
      "Train Epoch: 6 [240/60000 ( 23%)]\t3.484306\n",
      "Train Epoch: 6 [260/60000 ( 27%)]\t3.388783\n",
      "Train Epoch: 6 [280/60000 ( 30%)]\t3.433820\n",
      "Train Epoch: 6 [300/60000 ( 33%)]\t3.492688\n",
      "Train Epoch: 6 [320/60000 ( 37%)]\t3.469369\n",
      "Train Epoch: 6 [340/60000 ( 40%)]\t3.447475\n",
      "Train Epoch: 6 [360/60000 ( 43%)]\t3.386964\n",
      "Train Epoch: 6 [380/60000 ( 47%)]\t3.475549\n",
      "Train Epoch: 6 [400/60000 ( 50%)]\t3.350950\n",
      "Train Epoch: 6 [420/60000 ( 53%)]\t3.385682\n",
      "Train Epoch: 6 [440/60000 ( 57%)]\t3.457290\n",
      "Train Epoch: 6 [460/60000 ( 60%)]\t3.442363\n",
      "Train Epoch: 6 [480/60000 ( 63%)]\t3.421134\n",
      "Train Epoch: 6 [500/60000 ( 67%)]\t3.423980\n",
      "Train Epoch: 6 [520/60000 ( 70%)]\t3.381425\n",
      "Train Epoch: 6 [540/60000 ( 73%)]\t3.526140\n",
      "Train Epoch: 6 [560/60000 ( 77%)]\t3.384897\n",
      "Train Epoch: 6 [580/60000 ( 80%)]\t3.416819\n",
      "Train Epoch: 6 [600/60000 ( 83%)]\t3.415840\n",
      "Train Epoch: 6 [620/60000 ( 87%)]\t3.492581\n",
      "Train Epoch: 6 [640/60000 ( 90%)]\t3.444155\n",
      "Train Epoch: 6 [660/60000 ( 93%)]\t3.464933\n",
      "Train Epoch: 6 [680/60000 ( 97%)]\t3.425861\n",
      "\n",
      "Test set: Average loss: 0.0299, Accuracy 9633/10000 (96%\n",
      ")\n",
      "Train Epoch: 7 [100/60000 ( 0%)]\t3.467351\n",
      "Train Epoch: 7 [120/60000 ( 3%)]\t3.441176\n",
      "Train Epoch: 7 [140/60000 ( 7%)]\t3.424133\n",
      "Train Epoch: 7 [160/60000 ( 10%)]\t3.345836\n",
      "Train Epoch: 7 [180/60000 ( 13%)]\t3.474696\n",
      "Train Epoch: 7 [200/60000 ( 17%)]\t3.416001\n",
      "Train Epoch: 7 [220/60000 ( 20%)]\t3.448540\n",
      "Train Epoch: 7 [240/60000 ( 23%)]\t3.527420\n",
      "Train Epoch: 7 [260/60000 ( 27%)]\t3.405558\n",
      "Train Epoch: 7 [280/60000 ( 30%)]\t3.445534\n",
      "Train Epoch: 7 [300/60000 ( 33%)]\t3.494079\n",
      "Train Epoch: 7 [320/60000 ( 37%)]\t3.434160\n",
      "Train Epoch: 7 [340/60000 ( 40%)]\t3.454674\n",
      "Train Epoch: 7 [360/60000 ( 43%)]\t3.461576\n",
      "Train Epoch: 7 [380/60000 ( 47%)]\t3.488755\n",
      "Train Epoch: 7 [400/60000 ( 50%)]\t3.464861\n",
      "Train Epoch: 7 [420/60000 ( 53%)]\t3.462417\n",
      "Train Epoch: 7 [440/60000 ( 57%)]\t3.440530\n",
      "Train Epoch: 7 [460/60000 ( 60%)]\t3.502950\n",
      "Train Epoch: 7 [480/60000 ( 63%)]\t3.347021\n",
      "Train Epoch: 7 [500/60000 ( 67%)]\t3.446544\n",
      "Train Epoch: 7 [520/60000 ( 70%)]\t3.440203\n",
      "Train Epoch: 7 [540/60000 ( 73%)]\t3.523511\n",
      "Train Epoch: 7 [560/60000 ( 77%)]\t3.500085\n",
      "Train Epoch: 7 [580/60000 ( 80%)]\t3.541717\n",
      "Train Epoch: 7 [600/60000 ( 83%)]\t3.520920\n",
      "Train Epoch: 7 [620/60000 ( 87%)]\t3.464951\n",
      "Train Epoch: 7 [640/60000 ( 90%)]\t3.438005\n",
      "Train Epoch: 7 [660/60000 ( 93%)]\t3.463302\n",
      "Train Epoch: 7 [680/60000 ( 97%)]\t3.446725\n",
      "\n",
      "Test set: Average loss: 0.0298, Accuracy 9696/10000 (97%\n",
      ")\n",
      "Train Epoch: 8 [100/60000 ( 0%)]\t3.444022\n",
      "Train Epoch: 8 [120/60000 ( 3%)]\t3.436591\n",
      "Train Epoch: 8 [140/60000 ( 7%)]\t3.417202\n",
      "Train Epoch: 8 [160/60000 ( 10%)]\t3.467371\n",
      "Train Epoch: 8 [180/60000 ( 13%)]\t3.415493\n",
      "Train Epoch: 8 [200/60000 ( 17%)]\t3.429002\n",
      "Train Epoch: 8 [220/60000 ( 20%)]\t3.434964\n",
      "Train Epoch: 8 [240/60000 ( 23%)]\t3.464029\n",
      "Train Epoch: 8 [260/60000 ( 27%)]\t3.366402\n",
      "Train Epoch: 8 [280/60000 ( 30%)]\t3.486347\n",
      "Train Epoch: 8 [300/60000 ( 33%)]\t3.487030\n",
      "Train Epoch: 8 [320/60000 ( 37%)]\t3.493146\n",
      "Train Epoch: 8 [340/60000 ( 40%)]\t3.479918\n",
      "Train Epoch: 8 [360/60000 ( 43%)]\t3.533365\n",
      "Train Epoch: 8 [380/60000 ( 47%)]\t3.424759\n",
      "Train Epoch: 8 [400/60000 ( 50%)]\t3.505915\n",
      "Train Epoch: 8 [420/60000 ( 53%)]\t3.474527\n",
      "Train Epoch: 8 [440/60000 ( 57%)]\t3.435272\n",
      "Train Epoch: 8 [460/60000 ( 60%)]\t3.522866\n",
      "Train Epoch: 8 [480/60000 ( 63%)]\t3.450986\n",
      "Train Epoch: 8 [500/60000 ( 67%)]\t3.406168\n",
      "Train Epoch: 8 [520/60000 ( 70%)]\t3.392324\n",
      "Train Epoch: 8 [540/60000 ( 73%)]\t3.435136\n",
      "Train Epoch: 8 [560/60000 ( 77%)]\t3.423136\n",
      "Train Epoch: 8 [580/60000 ( 80%)]\t3.371498\n",
      "Train Epoch: 8 [600/60000 ( 83%)]\t3.461116\n",
      "Train Epoch: 8 [620/60000 ( 87%)]\t3.423203\n",
      "Train Epoch: 8 [640/60000 ( 90%)]\t3.451409\n",
      "Train Epoch: 8 [660/60000 ( 93%)]\t3.512026\n",
      "Train Epoch: 8 [680/60000 ( 97%)]\t3.432450\n",
      "\n",
      "Test set: Average loss: 0.0298, Accuracy 9716/10000 (97%\n",
      ")\n",
      "Train Epoch: 9 [100/60000 ( 0%)]\t3.455179\n",
      "Train Epoch: 9 [120/60000 ( 3%)]\t3.508679\n",
      "Train Epoch: 9 [140/60000 ( 7%)]\t3.429421\n",
      "Train Epoch: 9 [160/60000 ( 10%)]\t3.461870\n",
      "Train Epoch: 9 [180/60000 ( 13%)]\t3.443384\n",
      "Train Epoch: 9 [200/60000 ( 17%)]\t3.453959\n",
      "Train Epoch: 9 [220/60000 ( 20%)]\t3.414988\n",
      "Train Epoch: 9 [240/60000 ( 23%)]\t3.471379\n",
      "Train Epoch: 9 [260/60000 ( 27%)]\t3.393536\n",
      "Train Epoch: 9 [280/60000 ( 30%)]\t3.463176\n",
      "Train Epoch: 9 [300/60000 ( 33%)]\t3.424951\n",
      "Train Epoch: 9 [320/60000 ( 37%)]\t3.441920\n",
      "Train Epoch: 9 [340/60000 ( 40%)]\t3.279540\n",
      "Train Epoch: 9 [360/60000 ( 43%)]\t3.480043\n",
      "Train Epoch: 9 [380/60000 ( 47%)]\t3.497635\n",
      "Train Epoch: 9 [400/60000 ( 50%)]\t3.490379\n",
      "Train Epoch: 9 [420/60000 ( 53%)]\t3.467970\n",
      "Train Epoch: 9 [440/60000 ( 57%)]\t3.434686\n",
      "Train Epoch: 9 [460/60000 ( 60%)]\t3.495378\n",
      "Train Epoch: 9 [480/60000 ( 63%)]\t3.488157\n",
      "Train Epoch: 9 [500/60000 ( 67%)]\t3.360762\n",
      "Train Epoch: 9 [520/60000 ( 70%)]\t3.483279\n",
      "Train Epoch: 9 [540/60000 ( 73%)]\t3.463997\n",
      "Train Epoch: 9 [560/60000 ( 77%)]\t3.490656\n",
      "Train Epoch: 9 [580/60000 ( 80%)]\t3.511384\n",
      "Train Epoch: 9 [600/60000 ( 83%)]\t3.470588\n",
      "Train Epoch: 9 [620/60000 ( 87%)]\t3.488319\n",
      "Train Epoch: 9 [640/60000 ( 90%)]\t3.472995\n",
      "Train Epoch: 9 [660/60000 ( 93%)]\t3.482866\n",
      "Train Epoch: 9 [680/60000 ( 97%)]\t3.424204\n",
      "\n",
      "Test set: Average loss: 0.0298, Accuracy 9721/10000 (97%\n",
      ")\n",
      "Train Epoch: 10 [100/60000 ( 0%)]\t3.414353\n",
      "Train Epoch: 10 [120/60000 ( 3%)]\t3.432722\n",
      "Train Epoch: 10 [140/60000 ( 7%)]\t3.441752\n",
      "Train Epoch: 10 [160/60000 ( 10%)]\t3.474474\n",
      "Train Epoch: 10 [180/60000 ( 13%)]\t3.601348\n",
      "Train Epoch: 10 [200/60000 ( 17%)]\t3.499695\n",
      "Train Epoch: 10 [220/60000 ( 20%)]\t3.432643\n",
      "Train Epoch: 10 [240/60000 ( 23%)]\t3.513157\n",
      "Train Epoch: 10 [260/60000 ( 27%)]\t3.462762\n",
      "Train Epoch: 10 [280/60000 ( 30%)]\t3.424838\n",
      "Train Epoch: 10 [300/60000 ( 33%)]\t3.417317\n",
      "Train Epoch: 10 [320/60000 ( 37%)]\t3.399924\n",
      "Train Epoch: 10 [340/60000 ( 40%)]\t3.410555\n",
      "Train Epoch: 10 [360/60000 ( 43%)]\t3.422698\n",
      "Train Epoch: 10 [380/60000 ( 47%)]\t3.412874\n",
      "Train Epoch: 10 [400/60000 ( 50%)]\t3.402822\n",
      "Train Epoch: 10 [420/60000 ( 53%)]\t3.521052\n",
      "Train Epoch: 10 [440/60000 ( 57%)]\t3.442348\n",
      "Train Epoch: 10 [460/60000 ( 60%)]\t3.453953\n",
      "Train Epoch: 10 [480/60000 ( 63%)]\t3.468595\n",
      "Train Epoch: 10 [500/60000 ( 67%)]\t3.456928\n",
      "Train Epoch: 10 [520/60000 ( 70%)]\t3.479605\n",
      "Train Epoch: 10 [540/60000 ( 73%)]\t3.414497\n",
      "Train Epoch: 10 [560/60000 ( 77%)]\t3.465827\n",
      "Train Epoch: 10 [580/60000 ( 80%)]\t3.372291\n",
      "Train Epoch: 10 [600/60000 ( 83%)]\t3.501303\n",
      "Train Epoch: 10 [620/60000 ( 87%)]\t3.523086\n",
      "Train Epoch: 10 [640/60000 ( 90%)]\t3.336278\n",
      "Train Epoch: 10 [660/60000 ( 93%)]\t3.407950\n",
      "Train Epoch: 10 [680/60000 ( 97%)]\t3.405272\n",
      "\n",
      "Test set: Average loss: 0.0298, Accuracy 9738/10000 (97%\n",
      ")\n"
     ]
    }
   ],
   "source": [
    "for epoch in range(1, 11):\n",
    "    train(epoch)\n",
    "    test()"
   ]
  },
  {
   "cell_type": "code",
   "execution_count": 21,
   "metadata": {},
   "outputs": [
    {
     "data": {
      "text/plain": [
       "device(type='cpu')"
      ]
     },
     "execution_count": 21,
     "metadata": {},
     "output_type": "execute_result"
    }
   ],
   "source": [
    "device"
   ]
  },
  {
   "cell_type": "code",
   "execution_count": 23,
   "metadata": {},
   "outputs": [
    {
     "name": "stderr",
     "output_type": "stream",
     "text": [
      "/tmp/ipykernel_3940/1760565177.py:23: UserWarning: Implicit dimension choice for softmax has been deprecated. Change the call to include dim=X as an argument.\n",
      "  return F.softmax(x)\n"
     ]
    },
    {
     "name": "stdout",
     "output_type": "stream",
     "text": [
      "Prediction: 2\n"
     ]
    },
    {
     "data": {
      "image/png": "[encoded data removed]",
      "text/plain": [
       "<Figure size 640x480 with 1 Axes>"
      ]
     },
     "metadata": {},
     "output_type": "display_data"
    }
   ],
   "source": [
    "import matplotlib.pyplot as plt\n",
    "\n",
    "model.eval()\n",
    "\n",
    "data, target = test_data[1]\n",
    "\n",
    "data = data.unsqueeze(0).to(device)\n",
    "\n",
    "output = model(data)\n",
    "\n",
    "predition = output.argmax(dim=1, keepdim=True).item()\n",
    "\n",
    "print(f'Prediction: {predition}')\n",
    "\n",
    "image = data.squeeze(0).squeeze(0).cpu().numpy()\n",
    "\n",
    "plt.imshow(image, cmap='gray')\n",
    "plt.show()"
   ]
  }
 ],
 "metadata": {
  "kernelspec": {
   "display_name": "Python 3",
   "language": "python",
   "name": "python3"
  },
  "language_info": {
   "codemirror_mode": {
    "name": "ipython",
    "version": 3
   },
   "file_extension": ".py",
   "mimetype": "text/x-python",
   "name": "python",
   "nbconvert_exporter": "python",
   "pygments_lexer": "ipython3",
   "version": "3.10.12"
  },
  "orig_nbformat": 4
 },
 "nbformat": 4,
 "nbformat_minor": 2
}
